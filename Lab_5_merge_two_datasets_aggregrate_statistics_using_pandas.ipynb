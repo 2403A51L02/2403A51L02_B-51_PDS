{
  "nbformat": 4,
  "nbformat_minor": 0,
  "metadata": {
    "colab": {
      "provenance": [],
      "toc_visible": true,
      "authorship_tag": "ABX9TyMzokmhNEB6HYcpikyEhAQr",
      "include_colab_link": true
    },
    "kernelspec": {
      "name": "python3",
      "display_name": "Python 3"
    },
    "language_info": {
      "name": "python"
    }
  },
  "cells": [
    {
      "cell_type": "markdown",
      "metadata": {
        "id": "view-in-github",
        "colab_type": "text"
      },
      "source": [
        "<a href=\"https://colab.research.google.com/github/2403A51L02/2403A51L02_B-51_PDS/blob/main/Lab_5_merge_two_datasets_aggregrate_statistics_using_pandas.ipynb\" target=\"_parent\"><img src=\"https://colab.research.google.com/assets/colab-badge.svg\" alt=\"Open In Colab\"/></a>"
      ]
    },
    {
      "cell_type": "code",
      "execution_count": 1,
      "metadata": {
        "colab": {
          "base_uri": "https://localhost:8080/"
        },
        "id": "McRPFHn-kUYV",
        "outputId": "7377467d-ce9c-4f4e-925f-c6920d7d13a2"
      },
      "outputs": [
        {
          "output_type": "stream",
          "name": "stdout",
          "text": [
            "Students Dataset:\n",
            "    student_id     name class\n",
            "0           1    Alice     A\n",
            "1           2      Bob     A\n",
            "2           3  Charlie     B\n",
            "3           4    David     B\n",
            "4           5      Eva     C \n",
            "\n",
            "Scores Dataset:\n",
            "    student_id  subject  score\n",
            "0           1     Math     85\n",
            "1           2     Math     78\n",
            "2           2  Science     82\n",
            "3           3     Math     90\n",
            "4           5  Science     88\n",
            "5           6     Math     75 \n",
            "\n",
            "Inner Join:\n",
            "    student_id     name class  subject  score\n",
            "0           1    Alice     A     Math     85\n",
            "1           2      Bob     A     Math     78\n",
            "2           2      Bob     A  Science     82\n",
            "3           3  Charlie     B     Math     90\n",
            "4           5      Eva     C  Science     88 \n",
            "\n",
            "Left Join:\n",
            "    student_id     name class  subject  score\n",
            "0           1    Alice     A     Math   85.0\n",
            "1           2      Bob     A     Math   78.0\n",
            "2           2      Bob     A  Science   82.0\n",
            "3           3  Charlie     B     Math   90.0\n",
            "4           4    David     B      NaN    NaN\n",
            "5           5      Eva     C  Science   88.0 \n",
            "\n",
            "Right Join:\n",
            "    student_id     name class  subject  score\n",
            "0           1    Alice     A     Math     85\n",
            "1           2      Bob     A     Math     78\n",
            "2           2      Bob     A  Science     82\n",
            "3           3  Charlie     B     Math     90\n",
            "4           5      Eva     C  Science     88\n",
            "5           6      NaN   NaN     Math     75 \n",
            "\n",
            "Overall Mean Score: 84.6\n",
            "Overall Max Score: 90\n",
            "Overall Min Score: 78\n",
            "Number of Scores: 5 \n",
            "\n",
            "Class-wise Statistics:\n",
            "             mean  max  min  count\n",
            "class                            \n",
            "A      81.666667   85   78      3\n",
            "B      90.000000   90   90      1\n",
            "C      88.000000   88   88      1 \n",
            "\n",
            "Subject-wise Statistics:\n",
            "               mean  max  min  count\n",
            "subject                            \n",
            "Math     84.333333   90   78      3\n",
            "Science  85.000000   88   82      2 \n",
            "\n"
          ]
        }
      ],
      "source": [
        "import pandas as pd\n",
        "\n",
        "students = pd.DataFrame({\n",
        "    'student_id': [1, 2, 3, 4, 5],\n",
        "    'name': ['Alice', 'Bob', 'Charlie', 'David', 'Eva'],\n",
        "    'class': ['A', 'A', 'B', 'B', 'C']\n",
        "})\n",
        "\n",
        "scores = pd.DataFrame({\n",
        "    'student_id': [1, 2, 2, 3, 5, 6],\n",
        "    'subject': ['Math', 'Math', 'Science', 'Math', 'Science', 'Math'],\n",
        "    'score': [85, 78, 82, 90, 88, 75]\n",
        "})\n",
        "\n",
        "print(\"Students Dataset:\\n\", students, \"\\n\")\n",
        "print(\"Scores Dataset:\\n\", scores, \"\\n\")\n",
        "\n",
        "inner_merge = pd.merge(students, scores, on=\"student_id\", how=\"inner\")\n",
        "left_merge = pd.merge(students, scores, on=\"student_id\", how=\"left\")\n",
        "right_merge = pd.merge(students, scores, on=\"student_id\", how=\"right\")\n",
        "\n",
        "print(\"Inner Join:\\n\", inner_merge, \"\\n\")\n",
        "print(\"Left Join:\\n\", left_merge, \"\\n\")\n",
        "print(\"Right Join:\\n\", right_merge, \"\\n\")\n",
        "\n",
        "print(\"Overall Mean Score:\", inner_merge['score'].mean())\n",
        "print(\"Overall Max Score:\", inner_merge['score'].max())\n",
        "print(\"Overall Min Score:\", inner_merge['score'].min())\n",
        "print(\"Number of Scores:\", inner_merge['score'].count(), \"\\n\")\n",
        "\n",
        "class_stats = inner_merge.groupby(\"class\")['score'].agg(['mean', 'max', 'min', 'count'])\n",
        "print(\"Class-wise Statistics:\\n\", class_stats, \"\\n\")\n",
        "\n",
        "subject_stats = inner_merge.groupby(\"subject\")['score'].agg(['mean', 'max', 'min', 'count'])\n",
        "print(\"Subject-wise Statistics:\\n\", subject_stats, \"\\n\")\n"
      ]
    },
    {
      "cell_type": "code",
      "source": [],
      "metadata": {
        "id": "Ce0BDG1Zknx2"
      },
      "execution_count": null,
      "outputs": []
    }
  ]
}