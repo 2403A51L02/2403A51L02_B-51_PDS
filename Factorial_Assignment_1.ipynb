{
  "nbformat": 4,
  "nbformat_minor": 0,
  "metadata": {
    "colab": {
      "provenance": [],
      "authorship_tag": "ABX9TyMhXsOLVR9bjHSSDfN7LOPF",
      "include_colab_link": true
    },
    "kernelspec": {
      "name": "python3",
      "display_name": "Python 3"
    },
    "language_info": {
      "name": "python"
    }
  },
  "cells": [
    {
      "cell_type": "markdown",
      "metadata": {
        "id": "view-in-github",
        "colab_type": "text"
      },
      "source": [
        "<a href=\"https://colab.research.google.com/github/2403A51L02/2403A51L02_B-51_PDS/blob/main/Factorial_Assignment_1.ipynb\" target=\"_parent\"><img src=\"https://colab.research.google.com/assets/colab-badge.svg\" alt=\"Open In Colab\"/></a>"
      ]
    },
    {
      "cell_type": "code",
      "execution_count": 6,
      "metadata": {
        "colab": {
          "base_uri": "https://localhost:8080/"
        },
        "id": "kaE-Eg-ZV3vo",
        "outputId": "e6696e7b-675e-420d-ed98-dcf983494176"
      },
      "outputs": [
        {
          "output_type": "stream",
          "name": "stdout",
          "text": [
            "enter a number:4\n",
            "the factorial of4 is 24\n"
          ]
        }
      ],
      "source": [
        "def factorial(n):\n",
        "  if n==0 or n==1:\n",
        "    return 1\n",
        "  else:\n",
        "      return n*factorial(n-1)\n",
        "number=int(input(\"enter a number:\"))\n",
        "if number<0:\n",
        "        print(\"factorial is not defined for negative number\")\n",
        "else:\n",
        "        result=factorial(number)\n",
        "        print(f\"the factorial of{number} is {result}\")\n",
        ""
      ]
    },
    {
      "cell_type": "code",
      "source": [],
      "metadata": {
        "id": "9Xfy9v7jZBeG"
      },
      "execution_count": null,
      "outputs": []
    }
  ]
}